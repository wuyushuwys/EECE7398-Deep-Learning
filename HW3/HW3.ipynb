{
 "cells": [
  {
   "cell_type": "code",
   "execution_count": 1,
   "metadata": {},
   "outputs": [],
   "source": [
    "import torch\n",
    "import numpy as np\n",
    "from glob import glob\n",
    "from collections import Counter"
   ]
  },
  {
   "cell_type": "code",
   "execution_count": 2,
   "metadata": {},
   "outputs": [],
   "source": [
    "trainset_path = \"./dataset/English-German/trainset/*\"\n",
    "testset_path = \"./dataset/English-German/testset/*\"\n",
    "vocabulary_path = \"./dataset/English-German/Vocabularies/*\""
   ]
  },
  {
   "cell_type": "code",
   "execution_count": 3,
   "metadata": {},
   "outputs": [],
   "source": [
    "trainset_files = glob(trainset_path)\n",
    "testset_files = glob(testset_path)\n",
    "vocabulary_files = glob(vocabulary_path)\n",
    "trainset_files.sort()\n",
    "testset_files.sort()\n",
    "vocabulary_files.sort()"
   ]
  },
  {
   "cell_type": "code",
   "execution_count": 4,
   "metadata": {},
   "outputs": [],
   "source": [
    "trainset_X = [f for f in trainset_files if f.endswith('en')]\n",
    "trainset_Y = [f for f in trainset_files if not f.endswith('en')]"
   ]
  },
  {
   "cell_type": "code",
   "execution_count": 5,
   "metadata": {},
   "outputs": [],
   "source": [
    "testset_X = [f for f in testset_files if f.endswith('en')]\n",
    "testset_Y = [f for f in testset_files if not f.endswith('en')]"
   ]
  },
  {
   "cell_type": "code",
   "execution_count": 6,
   "metadata": {},
   "outputs": [],
   "source": [
    "vocabulary_X = [f for f in vocabulary_files if f.endswith('en')]\n",
    "vocabulary_Y = [f for f in vocabulary_files if not f.endswith('en')]"
   ]
  },
  {
   "cell_type": "code",
   "execution_count": 7,
   "metadata": {},
   "outputs": [],
   "source": [
    "def load_sentences(file):\n",
    "    with open(file) as f:\n",
    "        rawData = f.readlines()\n",
    "        return list(map(lambda word: word[:-1].split(' '), rawData))\n",
    "    \n",
    "def load_vocab(file):\n",
    "    with open(file) as f:\n",
    "        rawData = f.readlines()\n",
    "        return list(map(lambda word: word[:-1], rawData))"
   ]
  },
  {
   "cell_type": "code",
   "execution_count": 8,
   "metadata": {},
   "outputs": [],
   "source": [
    "vocabX = load_vocab(vocabulary_X[0])\n",
    "vocabY = load_vocab(vocabulary_Y[0])"
   ]
  },
  {
   "cell_type": "code",
   "execution_count": 9,
   "metadata": {},
   "outputs": [],
   "source": [
    "trainX = load_sentences(trainset_X[0])\n",
    "trainY = load_sentences(trainset_Y[0])"
   ]
  },
  {
   "cell_type": "code",
   "execution_count": 10,
   "metadata": {},
   "outputs": [],
   "source": [
    "test1_X = load_sentences(testset_X[0])\n",
    "test1_Y = load_sentences(testset_Y[0])"
   ]
  },
  {
   "cell_type": "code",
   "execution_count": 23,
   "metadata": {},
   "outputs": [],
   "source": [
    "X_word2index = {word: index for index, word in enumerate(vocabX)}\n",
    "X_index2word = {index: word for index, word in enumerate(vocabX)}\n",
    "X_word2index['<PAD>'] = -1\n",
    "X_index2word[-1] = '<PAD>'"
   ]
  },
  {
   "cell_type": "code",
   "execution_count": 24,
   "metadata": {},
   "outputs": [],
   "source": [
    "Y_word2index = {word: index for index, word in enumerate(vocabY)}\n",
    "Y_index2word = {index: word for index, word in enumerate(vocabY)}\n",
    "Y_word2index['<PAD>'] = -1\n",
    "Y_index2word[-1] = '<PAD>'"
   ]
  },
  {
   "cell_type": "code",
   "execution_count": 14,
   "metadata": {},
   "outputs": [],
   "source": []
  }
 ],
 "metadata": {
  "kernelspec": {
   "display_name": "PyTorch",
   "language": "python",
   "name": "pytorch_venv"
  },
  "language_info": {
   "codemirror_mode": {
    "name": "ipython",
    "version": 3
   },
   "file_extension": ".py",
   "mimetype": "text/x-python",
   "name": "python",
   "nbconvert_exporter": "python",
   "pygments_lexer": "ipython3",
   "version": "3.6.9"
  }
 },
 "nbformat": 4,
 "nbformat_minor": 2
}
